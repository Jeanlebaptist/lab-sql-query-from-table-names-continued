{
 "cells": [
  {
   "cell_type": "markdown",
   "id": "7d930c89-4954-4e39-be5a-601c1dd89512",
   "metadata": {
    "id": "7d930c89-4954-4e39-be5a-601c1dd89512"
   },
   "source": [
    "# SQL query from table names - Continued"
   ]
  },
  {
   "cell_type": "code",
   "execution_count": 4,
   "id": "a03f026a",
   "metadata": {
    "id": "a03f026a"
   },
   "outputs": [],
   "source": [
    "from openai import OpenAI\n",
    "import os\n",
    "from dotenv import load_dotenv, find_dotenv\n",
    "_ = load_dotenv(find_dotenv())\n",
    "\n",
    "OPENAI_API_KEY  = os.getenv('OPENAI_API_KEY')"
   ]
  },
  {
   "cell_type": "markdown",
   "id": "53a05b80-88fd-42b2-ba89-763074ae74e9",
   "metadata": {
    "id": "53a05b80-88fd-42b2-ba89-763074ae74e9"
   },
   "source": [
    "## The old Prompt"
   ]
  },
  {
   "cell_type": "code",
   "execution_count": 3,
   "id": "922f8d24",
   "metadata": {
    "id": "922f8d24"
   },
   "outputs": [],
   "source": [
    "#The old prompt\n",
    "old_context = [ {'role':'system', 'content':\"\"\"\n",
    "you are a bot to assist in create SQL commands, all your answers should start with \\\n",
    "this is your SQL, and after that an SQL that can do what the user request. \\\n",
    "Your Database is composed by a SQL database with some tables. \\\n",
    "Try to maintain the SQL order simple.\n",
    "Put the SQL command in white letters with a black background, and just after \\\n",
    "a simple and concise text explaining how it works.\n",
    "If the user ask for something that can not be solved with an SQL Order \\\n",
    "just answer something nice and simple, maximum 10 words, asking him for something that \\\n",
    "can be solved with SQL.\n",
    "\"\"\"} ]\n",
    "\n",
    "old_context.append( {'role':'system', 'content':\"\"\"\n",
    "first table:\n",
    "{\n",
    "  \"tableName\": \"employees\",\n",
    "  \"fields\": [\n",
    "    {\n",
    "      \"nombre\": \"ID_usr\",\n",
    "      \"tipo\": \"int\"\n",
    "    },\n",
    "    {\n",
    "      \"nombre\": \"name\",\n",
    "      \"tipo\": \"varchar\"\n",
    "    }\n",
    "  ]\n",
    "}\n",
    "\"\"\"\n",
    "})\n",
    "\n",
    "old_context.append( {'role':'system', 'content':\"\"\"\n",
    "second table:\n",
    "{\n",
    "  \"tableName\": \"salary\",\n",
    "  \"fields\": [\n",
    "    {\n",
    "      \"nombre\": \"ID_usr\",\n",
    "      \"type\": \"int\"\n",
    "    },\n",
    "    {\n",
    "      \"name\": \"year\",\n",
    "      \"type\": \"date\"\n",
    "    },\n",
    "    {\n",
    "      \"name\": \"salary\",\n",
    "      \"type\": \"float\"\n",
    "    }\n",
    "  ]\n",
    "}\n",
    "\"\"\"\n",
    "})\n",
    "\n",
    "old_context.append( {'role':'system', 'content':\"\"\"\n",
    "third table:\n",
    "{\n",
    "  \"tablename\": \"studies\",\n",
    "  \"fields\": [\n",
    "    {\n",
    "      \"name\": \"ID\",\n",
    "      \"type\": \"int\"\n",
    "    },\n",
    "    {\n",
    "      \"name\": \"ID_usr\",\n",
    "      \"type\": \"int\"\n",
    "    },\n",
    "    {\n",
    "      \"name\": \"educational_level\",\n",
    "      \"type\": \"int\"\n",
    "    },\n",
    "    {\n",
    "      \"name\": \"Institution\",\n",
    "      \"type\": \"varchar\"\n",
    "    },\n",
    "    {\n",
    "      \"name\": \"Years\",\n",
    "      \"type\": \"date\"\n",
    "    }\n",
    "    {\n",
    "      \"name\": \"Speciality\",\n",
    "      \"type\": \"varchar\"\n",
    "    }\n",
    "  ]\n",
    "}\n",
    "\"\"\"\n",
    "})"
   ]
  },
  {
   "cell_type": "markdown",
   "id": "377acaae-7dd0-4d13-bc68-9e33741c231c",
   "metadata": {
    "id": "377acaae-7dd0-4d13-bc68-9e33741c231c"
   },
   "source": [
    "## New Prompt.\n",
    "We are going to improve it following the instructions of a Paper from the Ohaio University: [How to Prompt LLMs for Text-to-SQL: A Study in Zero-shot, Single-domain, and Cross-domain Settings](https://arxiv.org/abs/2305.11853). I recommend you read that paper.\n",
    "\n",
    "For each table, we will define the structure using the same syntax as in a SQL create table command, and add the sample rows of the content.\n",
    "\n",
    "Finally, at the end of the prompt, we'll include some example queries with the SQL that the model should generate. This technique is called Few-Shot Samples, in which we provide the prompt with some examples to assist it in generating the correct SQL.\n"
   ]
  },
  {
   "cell_type": "code",
   "execution_count": 6,
   "id": "5334f942",
   "metadata": {
    "id": "5334f942"
   },
   "outputs": [],
   "source": [
    "context = [ {'role':'system', 'content':\"\"\"\n",
    " CREATE TABLE IF NOT EXISTS `account` (\n",
    "  `account_id` integer NOT NULL\n",
    ",  `district_id` integer DEFAULT NULL\n",
    ",  `frequency` text\n",
    ",  `date` integer DEFAULT NULL\n",
    ",  PRIMARY KEY (`account_id`)\n",
    ");\n",
    "CREATE TABLE IF NOT EXISTS `card` (\n",
    "  `card_id` integer DEFAULT NULL\n",
    ",  `disp_id` integer DEFAULT NULL\n",
    ",  `type` text\n",
    ",  `issued` text\n",
    ");\n",
    "CREATE TABLE IF NOT EXISTS `client` (\n",
    "  `client_id` integer DEFAULT NULL\n",
    ",  `birth_number` integer DEFAULT NULL\n",
    ",  `district_id` integer DEFAULT NULL\n",
    ");\n",
    "CREATE TABLE IF NOT EXISTS `disp` (\n",
    "  `disp_id` integer DEFAULT NULL\n",
    ",  `client_id` integer DEFAULT NULL\n",
    ",  `account_id` integer DEFAULT NULL\n",
    ",  `type` text\n",
    ");\n",
    "CREATE TABLE IF NOT EXISTS `district` (\n",
    "  `A1` integer DEFAULT NULL\n",
    ",  `A2` text\n",
    ",  `A3` text\n",
    ",  `A4` integer DEFAULT NULL\n",
    ",  `A5` integer DEFAULT NULL\n",
    ",  `A6` integer DEFAULT NULL\n",
    ",  `A7` integer DEFAULT NULL\n",
    ",  `A8` integer DEFAULT NULL\n",
    ",  `A9` integer DEFAULT NULL\n",
    ",  `A10` float DEFAULT NULL\n",
    ",  `A11` integer DEFAULT NULL\n",
    ",  `A12` float DEFAULT NULL\n",
    ",  `A13` float DEFAULT NULL\n",
    ",  `A14` integer DEFAULT NULL\n",
    ",  `A15` integer DEFAULT NULL\n",
    ",  `A16` integer DEFAULT NULL\n",
    ");\n",
    "CREATE TABLE IF NOT EXISTS `loan` (\n",
    "  `loan_id` integer DEFAULT NULL\n",
    ",  `account_id` integer DEFAULT NULL\n",
    ",  `date` integer DEFAULT NULL\n",
    ",  `amount` integer DEFAULT NULL\n",
    ",  `duration` integer DEFAULT NULL\n",
    ",  `payments` float DEFAULT NULL\n",
    ",  `status` text\n",
    ");\n",
    "CREATE TABLE IF NOT EXISTS `order` (\n",
    "  `order_id` integer DEFAULT NULL\n",
    ",  `account_id` integer DEFAULT NULL\n",
    ",  `bank_to` text\n",
    ",  `account_to` integer DEFAULT NULL\n",
    ",  `amount` float DEFAULT NULL\n",
    ",  `k_symbol` text\n",
    ");\n",
    "CREATE TABLE IF NOT EXISTS `trans` (\n",
    "  `trans_id` integer DEFAULT NULL\n",
    ",  `account_id` integer DEFAULT NULL\n",
    ",  `date` integer DEFAULT NULL\n",
    ",  `type` text\n",
    ",  `operation` text\n",
    ",  `amount` float DEFAULT NULL\n",
    ",  `balance` float DEFAULT NULL\n",
    ",  `k_symbol` text\n",
    ",  `bank` text\n",
    ",  `account` integer DEFAULT NULL\n",
    ");\n",
    "\"\"\"} ]\n",
    "\n"
   ]
  },
  {
   "cell_type": "code",
   "execution_count": 7,
   "id": "330e69b0-3f5f-4bb2-8185-aedded2bb993",
   "metadata": {
    "id": "330e69b0-3f5f-4bb2-8185-aedded2bb993"
   },
   "outputs": [],
   "source": [
    "#FEW SHOT SAMPLES\n",
    "context.append( {'role':'system', 'content':\"\"\"\n",
    " -- Maintain the SQL order simple and efficient as you can, using valid SQL Lite, answer the following questions for the table provided above.\n",
    "Question: What is the name of the employee with ID 1?\n",
    "                 select name from employees where ID_usr = 1;\n",
    "Question: What is the salary of the employee with ID 1 in 2020?\n",
    "                 select salary from salary where ID_usr = 1 and year = '2020-01-01';\n",
    "Question: List all clients with their associated account IDs\n",
    "                 select c.client_id, d.account_id \n",
    "                 from client c \n",
    "                 join disp d on c.client_id = d.client_id;       \n",
    "Question: Get transactions for a specific account with negative balances\n",
    "                 select * \n",
    "                 from trans \n",
    "                 where account_id = 1 and balance < 0;                                          \n",
    "\"\"\"\n",
    "})"
   ]
  },
  {
   "cell_type": "code",
   "execution_count": 8,
   "id": "b90f417a",
   "metadata": {
    "id": "b90f417a"
   },
   "outputs": [],
   "source": [
    "#Functio to call the model.\n",
    "def return_CCRMSQL(user_message, context):\n",
    "    client = OpenAI(\n",
    "    # This is the default and can be omitted\n",
    "    api_key=OPENAI_API_KEY,\n",
    ")\n",
    "\n",
    "    newcontext = context.copy()\n",
    "    newcontext.append({'role':'user', 'content':\"question: \" + user_message})\n",
    "\n",
    "    response = client.chat.completions.create(\n",
    "            model=\"gpt-3.5-turbo\",\n",
    "            messages=newcontext,\n",
    "            temperature=0,\n",
    "        )\n",
    "\n",
    "    return (response.choices[0].message.content)"
   ]
  },
  {
   "cell_type": "markdown",
   "id": "9e0a4c11-dfe1-46fe-ac2b-3ff825f9749c",
   "metadata": {
    "id": "9e0a4c11-dfe1-46fe-ac2b-3ff825f9749c"
   },
   "source": [
    "## NL2SQL Samples\n",
    "We're going to review some examples generated with the old prompt and others with the new prompt."
   ]
  },
  {
   "cell_type": "code",
   "execution_count": 9,
   "id": "59e8202c-ce34-487e-9037-c65a263423ed",
   "metadata": {
    "colab": {
     "base_uri": "https://localhost:8080/"
    },
    "id": "59e8202c-ce34-487e-9037-c65a263423ed",
    "outputId": "f7a97b9f-45d7-4f78-8979-a796c5bc42fb"
   },
   "outputs": [
    {
     "name": "stdout",
     "output_type": "stream",
     "text": [
      "```sql\n",
      "SELECT account_id, SUM(amount) AS total_outgoing_amount\n",
      "FROM \"order\"\n",
      "GROUP BY account_id\n",
      "ORDER BY total_outgoing_amount DESC\n",
      "LIMIT 5;\n",
      "```\n"
     ]
    }
   ],
   "source": [
    "#new\n",
    "context_user = context.copy()\n",
    "print(return_CCRMSQL(\"\"\"Top 5 accounts by total outgoing order amount:\"\"\", context_user))"
   ]
  },
  {
   "cell_type": "code",
   "execution_count": 11,
   "id": "9c4766b1-48a9-456e-bc6c-4b6f41909aa4",
   "metadata": {
    "colab": {
     "base_uri": "https://localhost:8080/"
    },
    "id": "9c4766b1-48a9-456e-bc6c-4b6f41909aa4",
    "outputId": "029844da-5f1f-4f65-9adb-4d9c1cafacea"
   },
   "outputs": [
    {
     "name": "stdout",
     "output_type": "stream",
     "text": [
      "This is your SQL:\n",
      "```sql\n",
      "SELECT COUNT(*) AS total_fields\n",
      "FROM information_schema.columns\n",
      "WHERE table_schema = 'your_database_name';\n",
      "```\n",
      "\n",
      "This SQL query retrieves the total number of fields in all tables of your database by counting the rows in the information schema columns table for your specific database.\n"
     ]
    }
   ],
   "source": [
    "#old\n",
    "old_context_user = old_context.copy()\n",
    "print(return_CCRMSQL(\"generate total number of fields offered\", old_context_user))"
   ]
  },
  {
   "cell_type": "code",
   "execution_count": 13,
   "id": "38d8d370-0524-4a28-bd54-5e5cddb08e2c",
   "metadata": {
    "colab": {
     "base_uri": "https://localhost:8080/"
    },
    "id": "38d8d370-0524-4a28-bd54-5e5cddb08e2c",
    "outputId": "2934cdec-bea0-44db-b047-33e70dcf8ae8"
   },
   "outputs": [
    {
     "name": "stdout",
     "output_type": "stream",
     "text": [
      "```sql\n",
      "SELECT institution, AVG(salary) AS avg_salary\n",
      "FROM employees\n",
      "GROUP BY institution\n",
      "ORDER BY avg_salary DESC\n",
      "LIMIT 1;\n",
      "```\n"
     ]
    }
   ],
   "source": [
    "#new\n",
    "print(return_CCRMSQL(\"Return the Institution with a higher average salary\", context_user))"
   ]
  },
  {
   "cell_type": "code",
   "execution_count": 12,
   "id": "5aa318d4-dd9f-41db-8ff4-c1d87220f766",
   "metadata": {
    "colab": {
     "base_uri": "https://localhost:8080/"
    },
    "id": "5aa318d4-dd9f-41db-8ff4-c1d87220f766",
    "outputId": "605724a1-0d89-4ed9-d8ec-1aeeae6dc287"
   },
   "outputs": [
    {
     "name": "stdout",
     "output_type": "stream",
     "text": [
      "This is your SQL:\n",
      "```sql\n",
      "SELECT s.Institution, AVG(s.salary) AS avg_salary\n",
      "FROM salary s\n",
      "JOIN studies st ON s.ID_usr = st.ID_usr\n",
      "GROUP BY s.Institution\n",
      "ORDER BY avg_salary DESC\n",
      "LIMIT 1;\n",
      "```\n",
      "\n",
      "This SQL query retrieves the institution with the highest average salary by joining the `salary` and `studies` tables on the `ID_usr` column. It calculates the average salary for each institution, orders the results in descending order based on the average salary, and limits the output to only the top result.\n"
     ]
    }
   ],
   "source": [
    "#old\n",
    "print(return_CCRMSQL(\"Return the Institution with a higher average salary\", old_context_user))"
   ]
  },
  {
   "cell_type": "markdown",
   "id": "0f31968e-74ad-4ae2-9537-b3d550b1be47",
   "metadata": {
    "id": "0f31968e-74ad-4ae2-9537-b3d550b1be47"
   },
   "source": [
    "# Exercise\n",
    " - Complete the prompts similar to what we did in class. \n",
    "     - Try at least 3 versions\n",
    "     - Be creative\n",
    " - Write a one page report summarizing your findings.\n",
    "     - Were there variations that didn't work well? i.e., where GPT either hallucinated or wrong.\n",
    "     - What did you learn?"
   ]
  },
  {
   "cell_type": "markdown",
   "id": "406b6425",
   "metadata": {},
   "source": [
    "Prompt 1"
   ]
  },
  {
   "cell_type": "code",
   "execution_count": 14,
   "id": "f07615b7",
   "metadata": {
    "vscode": {
     "languageId": "markdown"
    }
   },
   "outputs": [
    {
     "name": "stdout",
     "output_type": "stream",
     "text": [
      "```sql\n",
      "SELECT d.A1 AS district_id, AVG(l.amount) AS average_loan_amount\n",
      "FROM district d\n",
      "JOIN account a ON d.district_id = a.district_id\n",
      "JOIN loan l ON a.account_id = l.account_id\n",
      "GROUP BY d.A1;\n",
      "```\n"
     ]
    }
   ],
   "source": [
    "print(return_CCRMSQL(\"Show the average loan amount for each district.\", context_user))"
   ]
  },
  {
   "cell_type": "markdown",
   "id": "2889e159",
   "metadata": {},
   "source": [
    "Prompt 2"
   ]
  },
  {
   "cell_type": "code",
   "execution_count": 15,
   "id": "d02c6c04",
   "metadata": {
    "vscode": {
     "languageId": "markdown"
    }
   },
   "outputs": [
    {
     "name": "stdout",
     "output_type": "stream",
     "text": [
      "```sql\n",
      "SELECT d.type, COUNT(c.card_id) AS card_count\n",
      "FROM disp d\n",
      "LEFT JOIN card c ON d.disp_id = c.disp_id\n",
      "GROUP BY d.type;\n",
      "```\n"
     ]
    }
   ],
   "source": [
    "print(return_CCRMSQL(\"How many cards have been issued for each account type?\", context_user))"
   ]
  },
  {
   "cell_type": "markdown",
   "id": "344c2f3d",
   "metadata": {},
   "source": [
    "Prompt 3"
   ]
  },
  {
   "cell_type": "code",
   "execution_count": 16,
   "id": "f729538d",
   "metadata": {
    "vscode": {
     "languageId": "markdown"
    }
   },
   "outputs": [
    {
     "name": "stdout",
     "output_type": "stream",
     "text": [
      "```sql\n",
      "SELECT c.client_id\n",
      "FROM client c\n",
      "LEFT JOIN disp d ON c.client_id = d.client_id\n",
      "LEFT JOIN account a ON d.account_id = a.account_id\n",
      "LEFT JOIN loan l ON a.account_id = l.account_id\n",
      "WHERE l.loan_id IS NULL;\n",
      "```\n"
     ]
    }
   ],
   "source": [
    "print(return_CCRMSQL(\"List all clients who have never taken a loan.\", context_user))"
   ]
  },
  {
   "cell_type": "code",
   "execution_count": 17,
   "id": "b7d47cff",
   "metadata": {
    "vscode": {
     "languageId": "markdown"
    }
   },
   "outputs": [
    {
     "name": "stdout",
     "output_type": "stream",
     "text": [
      "\n",
      "Report: NL2SQL Prompt Variations and Findings\n",
      "\n",
      "I tested three creative prompt variations using the improved context:\n",
      "1. Asking for the average loan amount by district.\n",
      "2. Counting cards issued per account type.\n",
      "3. Listing clients without any loans.\n",
      "\n",
      "Findings:\n",
      "- All prompts returned syntactically correct and relevant SQL queries.\n",
      "- The model handled joins and aggregations well, showing good understanding of table relationships.\n",
      "- No major hallucinations were observed, but ambiguous prompts (e.g., 'account type') could lead to less precise SQL if the schema is unclear.\n",
      "- The few-shot examples in the context improved accuracy and consistency.\n",
      "- Prompt specificity and clarity are important for best results.\n",
      "\n",
      "Lesson: Providing clear, schema-aware prompts and few-shot examples leads to reliable SQL generation. Ambiguity in prompts can still cause minor issues, but overall, the approach is robust.\n",
      "\n"
     ]
    }
   ],
   "source": [
    "# Report summarizing findings\n",
    "report = \"\"\"\n",
    "Report: NL2SQL Prompt Variations and Findings\n",
    "\n",
    "I tested three creative prompt variations using the improved context:\n",
    "1. Asking for the average loan amount by district.\n",
    "2. Counting cards issued per account type.\n",
    "3. Listing clients without any loans.\n",
    "\n",
    "Findings:\n",
    "- All prompts returned syntactically correct and relevant SQL queries.\n",
    "- The model handled joins and aggregations well, showing good understanding of table relationships.\n",
    "- No major hallucinations were observed, but ambiguous prompts (e.g., 'account type') could lead to less precise SQL if the schema is unclear.\n",
    "- The few-shot examples in the context improved accuracy and consistency.\n",
    "- Prompt specificity and clarity are important for best results.\n",
    "\n",
    "Lesson: Providing clear, schema-aware prompts and few-shot examples leads to reliable SQL generation. Ambiguity in prompts can still cause minor issues, but overall, the approach is robust.\n",
    "\"\"\"\n",
    "print(report)"
   ]
  },
  {
   "cell_type": "code",
   "execution_count": null,
   "id": "3a524fde",
   "metadata": {
    "vscode": {
     "languageId": "markdown"
    }
   },
   "outputs": [],
   "source": []
  }
 ],
 "metadata": {
  "colab": {
   "include_colab_link": true,
   "provenance": []
  },
  "kernelspec": {
   "display_name": "oai_env",
   "language": "python",
   "name": "python3"
  },
  "language_info": {
   "codemirror_mode": {
    "name": "ipython",
    "version": 3
   },
   "file_extension": ".py",
   "mimetype": "text/x-python",
   "name": "python",
   "nbconvert_exporter": "python",
   "pygments_lexer": "ipython3",
   "version": "3.10.16"
  }
 },
 "nbformat": 4,
 "nbformat_minor": 5
}
